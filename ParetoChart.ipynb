{
  "nbformat": 4,
  "nbformat_minor": 0,
  "metadata": {
    "colab": {
      "name": "Untitled0.ipynb",
      "provenance": [],
      "mount_file_id": "1V0dVG6ld4I0h08lKgktFK_Pwi6sNWGbC",
      "authorship_tag": "ABX9TyO0RX9NIzx+PW0CDrf28WCN",
      "include_colab_link": true
    },
    "kernelspec": {
      "name": "python3",
      "display_name": "Python 3"
    },
    "language_info": {
      "name": "python"
    }
  },
  "cells": [
    {
      "cell_type": "markdown",
      "metadata": {
        "id": "view-in-github",
        "colab_type": "text"
      },
      "source": [
        "<a href=\"https://colab.research.google.com/github/shivanidhar29/CloudIoTRaspberry/blob/main/ParetoChart.ipynb\" target=\"_parent\"><img src=\"https://colab.research.google.com/assets/colab-badge.svg\" alt=\"Open In Colab\"/></a>"
      ]
    },
    {
      "cell_type": "code",
      "execution_count": 30,
      "metadata": {
        "colab": {
          "base_uri": "https://localhost:8080/",
          "height": 417
        },
        "id": "QWfGMBZkYmgJ",
        "outputId": "98b6ce04-6424-42aa-929f-7c7db45547c7"
      },
      "outputs": [
        {
          "output_type": "execute_result",
          "data": {
            "text/plain": [
              "                         Skills  significance\n",
              "0              Technical Skills            25\n",
              "1            Behavioural Skills            22\n",
              "2           demonstrable skills            18\n",
              "3               Process  Skills            14\n",
              "4         organizational skills            17\n",
              "5          Interpersonal skills            15\n",
              "6            Project management             8\n",
              "7             Product Knowledge            12\n",
              "8            Industry Knowledge             9\n",
              "9   Organization Agility Skills            10\n",
              "10    Strategic Project  Skills            10\n",
              "11            Competency Skills            13"
            ],
            "text/html": [
              "\n",
              "  <div id=\"df-a037d078-017f-4823-bd2f-6ff5e7618a5d\">\n",
              "    <div class=\"colab-df-container\">\n",
              "      <div>\n",
              "<style scoped>\n",
              "    .dataframe tbody tr th:only-of-type {\n",
              "        vertical-align: middle;\n",
              "    }\n",
              "\n",
              "    .dataframe tbody tr th {\n",
              "        vertical-align: top;\n",
              "    }\n",
              "\n",
              "    .dataframe thead th {\n",
              "        text-align: right;\n",
              "    }\n",
              "</style>\n",
              "<table border=\"1\" class=\"dataframe\">\n",
              "  <thead>\n",
              "    <tr style=\"text-align: right;\">\n",
              "      <th></th>\n",
              "      <th>Skills</th>\n",
              "      <th>significance</th>\n",
              "    </tr>\n",
              "  </thead>\n",
              "  <tbody>\n",
              "    <tr>\n",
              "      <th>0</th>\n",
              "      <td>Technical Skills</td>\n",
              "      <td>25</td>\n",
              "    </tr>\n",
              "    <tr>\n",
              "      <th>1</th>\n",
              "      <td>Behavioural Skills</td>\n",
              "      <td>22</td>\n",
              "    </tr>\n",
              "    <tr>\n",
              "      <th>2</th>\n",
              "      <td>demonstrable skills</td>\n",
              "      <td>18</td>\n",
              "    </tr>\n",
              "    <tr>\n",
              "      <th>3</th>\n",
              "      <td>Process  Skills</td>\n",
              "      <td>14</td>\n",
              "    </tr>\n",
              "    <tr>\n",
              "      <th>4</th>\n",
              "      <td>organizational skills</td>\n",
              "      <td>17</td>\n",
              "    </tr>\n",
              "    <tr>\n",
              "      <th>5</th>\n",
              "      <td>Interpersonal skills</td>\n",
              "      <td>15</td>\n",
              "    </tr>\n",
              "    <tr>\n",
              "      <th>6</th>\n",
              "      <td>Project management</td>\n",
              "      <td>8</td>\n",
              "    </tr>\n",
              "    <tr>\n",
              "      <th>7</th>\n",
              "      <td>Product Knowledge</td>\n",
              "      <td>12</td>\n",
              "    </tr>\n",
              "    <tr>\n",
              "      <th>8</th>\n",
              "      <td>Industry Knowledge</td>\n",
              "      <td>9</td>\n",
              "    </tr>\n",
              "    <tr>\n",
              "      <th>9</th>\n",
              "      <td>Organization Agility Skills</td>\n",
              "      <td>10</td>\n",
              "    </tr>\n",
              "    <tr>\n",
              "      <th>10</th>\n",
              "      <td>Strategic Project  Skills</td>\n",
              "      <td>10</td>\n",
              "    </tr>\n",
              "    <tr>\n",
              "      <th>11</th>\n",
              "      <td>Competency Skills</td>\n",
              "      <td>13</td>\n",
              "    </tr>\n",
              "  </tbody>\n",
              "</table>\n",
              "</div>\n",
              "      <button class=\"colab-df-convert\" onclick=\"convertToInteractive('df-a037d078-017f-4823-bd2f-6ff5e7618a5d')\"\n",
              "              title=\"Convert this dataframe to an interactive table.\"\n",
              "              style=\"display:none;\">\n",
              "        \n",
              "  <svg xmlns=\"http://www.w3.org/2000/svg\" height=\"24px\"viewBox=\"0 0 24 24\"\n",
              "       width=\"24px\">\n",
              "    <path d=\"M0 0h24v24H0V0z\" fill=\"none\"/>\n",
              "    <path d=\"M18.56 5.44l.94 2.06.94-2.06 2.06-.94-2.06-.94-.94-2.06-.94 2.06-2.06.94zm-11 1L8.5 8.5l.94-2.06 2.06-.94-2.06-.94L8.5 2.5l-.94 2.06-2.06.94zm10 10l.94 2.06.94-2.06 2.06-.94-2.06-.94-.94-2.06-.94 2.06-2.06.94z\"/><path d=\"M17.41 7.96l-1.37-1.37c-.4-.4-.92-.59-1.43-.59-.52 0-1.04.2-1.43.59L10.3 9.45l-7.72 7.72c-.78.78-.78 2.05 0 2.83L4 21.41c.39.39.9.59 1.41.59.51 0 1.02-.2 1.41-.59l7.78-7.78 2.81-2.81c.8-.78.8-2.07 0-2.86zM5.41 20L4 18.59l7.72-7.72 1.47 1.35L5.41 20z\"/>\n",
              "  </svg>\n",
              "      </button>\n",
              "      \n",
              "  <style>\n",
              "    .colab-df-container {\n",
              "      display:flex;\n",
              "      flex-wrap:wrap;\n",
              "      gap: 12px;\n",
              "    }\n",
              "\n",
              "    .colab-df-convert {\n",
              "      background-color: #E8F0FE;\n",
              "      border: none;\n",
              "      border-radius: 50%;\n",
              "      cursor: pointer;\n",
              "      display: none;\n",
              "      fill: #1967D2;\n",
              "      height: 32px;\n",
              "      padding: 0 0 0 0;\n",
              "      width: 32px;\n",
              "    }\n",
              "\n",
              "    .colab-df-convert:hover {\n",
              "      background-color: #E2EBFA;\n",
              "      box-shadow: 0px 1px 2px rgba(60, 64, 67, 0.3), 0px 1px 3px 1px rgba(60, 64, 67, 0.15);\n",
              "      fill: #174EA6;\n",
              "    }\n",
              "\n",
              "    [theme=dark] .colab-df-convert {\n",
              "      background-color: #3B4455;\n",
              "      fill: #D2E3FC;\n",
              "    }\n",
              "\n",
              "    [theme=dark] .colab-df-convert:hover {\n",
              "      background-color: #434B5C;\n",
              "      box-shadow: 0px 1px 3px 1px rgba(0, 0, 0, 0.15);\n",
              "      filter: drop-shadow(0px 1px 2px rgba(0, 0, 0, 0.3));\n",
              "      fill: #FFFFFF;\n",
              "    }\n",
              "  </style>\n",
              "\n",
              "      <script>\n",
              "        const buttonEl =\n",
              "          document.querySelector('#df-a037d078-017f-4823-bd2f-6ff5e7618a5d button.colab-df-convert');\n",
              "        buttonEl.style.display =\n",
              "          google.colab.kernel.accessAllowed ? 'block' : 'none';\n",
              "\n",
              "        async function convertToInteractive(key) {\n",
              "          const element = document.querySelector('#df-a037d078-017f-4823-bd2f-6ff5e7618a5d');\n",
              "          const dataTable =\n",
              "            await google.colab.kernel.invokeFunction('convertToInteractive',\n",
              "                                                     [key], {});\n",
              "          if (!dataTable) return;\n",
              "\n",
              "          const docLinkHtml = 'Like what you see? Visit the ' +\n",
              "            '<a target=\"_blank\" href=https://colab.research.google.com/notebooks/data_table.ipynb>data table notebook</a>'\n",
              "            + ' to learn more about interactive tables.';\n",
              "          element.innerHTML = '';\n",
              "          dataTable['output_type'] = 'display_data';\n",
              "          await google.colab.output.renderOutput(dataTable, element);\n",
              "          const docLink = document.createElement('div');\n",
              "          docLink.innerHTML = docLinkHtml;\n",
              "          element.appendChild(docLink);\n",
              "        }\n",
              "      </script>\n",
              "    </div>\n",
              "  </div>\n",
              "  "
            ]
          },
          "metadata": {},
          "execution_count": 30
        }
      ],
      "source": [
        "import pandas as pd\n",
        "SkillsDF=pd.read_csv(\"/content/drive/MyDrive/Skill_ParetoChart.csv\")\n",
        "SkillsDF.head(20)\n",
        "\n"
      ]
    },
    {
      "cell_type": "code",
      "source": [
        "import pandas as pd\n",
        "import matplotlib.pyplot as plt\n",
        "from matplotlib.ticker import PercentFormatter\n",
        "SkillsDF=pd.read_csv(\"/content/drive/MyDrive/Skill_ParetoChart.csv\")\n",
        "print(SkillsDF)\n"
      ],
      "metadata": {
        "colab": {
          "base_uri": "https://localhost:8080/"
        },
        "id": "ruK881jPcQuR",
        "outputId": "f9024809-f1e8-422d-ac6a-a2dab5a97e86"
      },
      "execution_count": 31,
      "outputs": [
        {
          "output_type": "stream",
          "name": "stdout",
          "text": [
            "                         Skills  significance\n",
            "0              Technical Skills            25\n",
            "1            Behavioural Skills            22\n",
            "2           demonstrable skills            18\n",
            "3               Process  Skills            14\n",
            "4         organizational skills            17\n",
            "5          Interpersonal skills            15\n",
            "6            Project management             8\n",
            "7             Product Knowledge            12\n",
            "8            Industry Knowledge             9\n",
            "9   Organization Agility Skills            10\n",
            "10    Strategic Project  Skills            10\n",
            "11            Competency Skills            13\n"
          ]
        }
      ]
    },
    {
      "cell_type": "code",
      "source": [
        "SkillsDF.index = SkillsDF['Skills']\n",
        "SkillsDF = SkillsDF.sort_values(by ='significance', ascending=False)\n",
        "print(SkillsDF)"
      ],
      "metadata": {
        "colab": {
          "base_uri": "https://localhost:8080/"
        },
        "id": "oN_GoJJRcb44",
        "outputId": "9d62934c-a4ec-4e38-f4ac-9bcf3a566384"
      },
      "execution_count": 32,
      "outputs": [
        {
          "output_type": "stream",
          "name": "stdout",
          "text": [
            "                                                  Skills  significance\n",
            "Skills                                                                \n",
            "Technical Skills                        Technical Skills            25\n",
            "Behavioural Skills                    Behavioural Skills            22\n",
            "demonstrable skills                  demonstrable skills            18\n",
            "organizational skills              organizational skills            17\n",
            " Interpersonal skills               Interpersonal skills            15\n",
            "Process  Skills                          Process  Skills            14\n",
            "Competency Skills                      Competency Skills            13\n",
            "Product Knowledge                      Product Knowledge            12\n",
            "Organization Agility Skills  Organization Agility Skills            10\n",
            "Strategic Project  Skills      Strategic Project  Skills            10\n",
            "Industry Knowledge                    Industry Knowledge             9\n",
            "Project management                    Project management             8\n"
          ]
        }
      ]
    },
    {
      "cell_type": "code",
      "source": [
        "SkillsDF[\"CumulativePercentage\"] = SkillsDF[\"significance\"].cumsum()/SkillsDF[\"significance\"].sum()*100\n",
        "SkillsDF[\"CumulativePercentage\"]=SkillsDF[\"CumulativePercentage\"].apply(lambda x: round(x,2))\n",
        "print(SkillsDF)"
      ],
      "metadata": {
        "colab": {
          "base_uri": "https://localhost:8080/"
        },
        "id": "Goy4kMU0crRe",
        "outputId": "cd437559-b0ce-4771-821b-2397d83bf2f6"
      },
      "execution_count": 33,
      "outputs": [
        {
          "output_type": "stream",
          "name": "stdout",
          "text": [
            "                                                  Skills  significance  \\\n",
            "Skills                                                                   \n",
            "Technical Skills                        Technical Skills            25   \n",
            "Behavioural Skills                    Behavioural Skills            22   \n",
            "demonstrable skills                  demonstrable skills            18   \n",
            "organizational skills              organizational skills            17   \n",
            " Interpersonal skills               Interpersonal skills            15   \n",
            "Process  Skills                          Process  Skills            14   \n",
            "Competency Skills                      Competency Skills            13   \n",
            "Product Knowledge                      Product Knowledge            12   \n",
            "Organization Agility Skills  Organization Agility Skills            10   \n",
            "Strategic Project  Skills      Strategic Project  Skills            10   \n",
            "Industry Knowledge                    Industry Knowledge             9   \n",
            "Project management                    Project management             8   \n",
            "\n",
            "                             CumulativePercentage  \n",
            "Skills                                             \n",
            "Technical Skills                            14.45  \n",
            "Behavioural Skills                          27.17  \n",
            "demonstrable skills                         37.57  \n",
            "organizational skills                       47.40  \n",
            " Interpersonal skills                       56.07  \n",
            "Process  Skills                             64.16  \n",
            "Competency Skills                           71.68  \n",
            "Product Knowledge                           78.61  \n",
            "Organization Agility Skills                 84.39  \n",
            "Strategic Project  Skills                   90.17  \n",
            "Industry Knowledge                          95.38  \n",
            "Project management                         100.00  \n"
          ]
        }
      ]
    },
    {
      "cell_type": "code",
      "source": [
        "from matplotlib import colors\n",
        "fig, ax =plt.subplots()\n",
        "ax.bar(SkillsDF.index,SkillsDF[\"significance\"],color=\"C0\")\n",
        "\n",
        "ax.set_xticklabels(SkillsDF['Skills'], rotation=45)\n",
        "\n",
        "ax2 = ax.twinx()\n",
        "\n",
        "ax2.plot(SkillsDF.index, SkillsDF[\"CumulativePercentage\"], color=\"C1\", marker=\"D\", ms=6, label=SkillsDF[\"CumulativePercentage\"])\n",
        "\n",
        "ax2.yaxis.set_major_formatter(PercentFormatter())\n",
        "\n",
        "ax.tick_params(axis=\"y\", colors=\"C0\")\n",
        "ax2.tick_params(axis=\"y\", colors=\"C1\")\n",
        "\n",
        "for index, v in SkillsDF.iterrows():\n",
        "  label = round(v['CumulativePercentage'],1)\n",
        "  plt.annotate(label, xy=(v['Skills'],v['CumulativePercentage']))\n",
        "\n",
        "plt.show();"
      ],
      "metadata": {
        "colab": {
          "base_uri": "https://localhost:8080/",
          "height": 353
        },
        "id": "13KDJWjzdgNP",
        "outputId": "dd5e8813-2877-472f-93cb-e8fbbae25cb3"
      },
      "execution_count": 34,
      "outputs": [
        {
          "output_type": "display_data",
          "data": {
            "text/plain": [
              "<Figure size 432x288 with 2 Axes>"
            ],
            "image/png": "[encoded data removed]"
          },
          "metadata": {}
        }
      ]
    }
  ]
}