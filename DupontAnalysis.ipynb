{
  "nbformat": 4,
  "nbformat_minor": 0,
  "metadata": {
    "colab": {
      "name": "Untitled1.ipynb",
      "provenance": [],
      "authorship_tag": "ABX9TyOWNHC3xBy6M7qGdGUmSUDO",
      "include_colab_link": true
    },
    "kernelspec": {
      "name": "python3",
      "display_name": "Python 3"
    },
    "language_info": {
      "name": "python"
    }
  },
  "cells": [
    {
      "cell_type": "markdown",
      "metadata": {
        "id": "view-in-github",
        "colab_type": "text"
      },
      "source": [
        "<a href=\"https://colab.research.google.com/github/shivanidhar29/CloudIoTRaspberry/blob/main/DupontAnalysis.ipynb\" target=\"_parent\"><img src=\"https://colab.research.google.com/assets/colab-badge.svg\" alt=\"Open In Colab\"/></a>"
      ]
    },
    {
      "cell_type": "code",
      "execution_count": 93,
      "metadata": {
        "colab": {
          "base_uri": "https://localhost:8080/"
        },
        "id": "M1Q-yuKYiZ4M",
        "outputId": "18bcb663-8328-412b-9635-9fad00158361"
      },
      "outputs": [
        {
          "output_type": "stream",
          "name": "stdout",
          "text": [
            "[{'date': '2021-09-25', 'symbol': 'AAPL', 'reportedCurrency': 'USD', 'cik': '0000320193', 'fillingDate': '2021-10-29', 'acceptedDate': '2021-10-28 18:04:28', 'calendarYear': '2021', 'period': 'FY', 'cashAndCashEquivalents': 34940000000, 'shortTermInvestments': 27699000000, 'cashAndShortTermInvestments': 62639000000, 'netReceivables': 51506000000, 'inventory': 6580000000, 'otherCurrentAssets': 14111000000, 'totalCurrentAssets': 134836000000, 'propertyPlantEquipmentNet': 39440000000, 'goodwill': 0.0, 'intangibleAssets': 0.0, 'goodwillAndIntangibleAssets': 0.0, 'longTermInvestments': 127877000000, 'taxAssets': 0.0, 'otherNonCurrentAssets': 48849000000, 'totalNonCurrentAssets': 216166000000, 'otherAssets': 0.0, 'totalAssets': 351002000000, 'accountPayables': 54763000000, 'shortTermDebt': 15613000000, 'taxPayables': 0.0, 'deferredRevenue': 7612000000, 'otherCurrentLiabilities': 47493000000, 'totalCurrentLiabilities': 125481000000, 'longTermDebt': 109106000000, 'deferredRevenueNonCurrent': 0.0, 'deferredTaxLiabilitiesNonCurrent': 0.0, 'otherNonCurrentLiabilities': 53325000000, 'totalNonCurrentLiabilities': 162431000000, 'otherLiabilities': 0.0, 'capitalLeaseObligations': 0.0, 'totalLiabilities': 287912000000, 'preferredStock': 0.0, 'commonStock': 57365000000, 'retainedEarnings': 5562000000, 'accumulatedOtherComprehensiveIncomeLoss': 163000000, 'othertotalStockholdersEquity': 0.0, 'totalStockholdersEquity': 63090000000, 'totalLiabilitiesAndStockholdersEquity': 351002000000, 'minorityInterest': 0, 'totalEquity': 63090000000, 'totalLiabilitiesAndTotalEquity': 351002000000, 'totalInvestments': 155576000000, 'totalDebt': 124719000000, 'netDebt': 89779000000, 'link': 'https://www.sec.gov/Archives/edgar/data/320193/000032019321000105/0000320193-21-000105-index.htm', 'finalLink': 'https://www.sec.gov/Archives/edgar/data/320193/000032019321000105/aapl-20210925.htm'}, {'date': '2020-09-26', 'symbol': 'AAPL', 'reportedCurrency': 'USD', 'cik': '0000320193', 'fillingDate': '2020-10-30', 'acceptedDate': '2020-10-29 18:06:25', 'calendarYear': '2020', 'period': 'FY', 'cashAndCashEquivalents': 38016000000, 'shortTermInvestments': 52927000000, 'cashAndShortTermInvestments': 90943000000, 'netReceivables': 37445000000, 'inventory': 4061000000, 'otherCurrentAssets': 11264000000, 'totalCurrentAssets': 143713000000, 'propertyPlantEquipmentNet': 36766000000, 'goodwill': 0.0, 'intangibleAssets': 0.0, 'goodwillAndIntangibleAssets': 0.0, 'longTermInvestments': 100887000000, 'taxAssets': 0.0, 'otherNonCurrentAssets': 42522000000, 'totalNonCurrentAssets': 180175000000, 'otherAssets': 0.0, 'totalAssets': 323888000000, 'accountPayables': 42296000000, 'shortTermDebt': 13769000000, 'taxPayables': 0.0, 'deferredRevenue': 6643000000, 'otherCurrentLiabilities': 42684000000, 'totalCurrentLiabilities': 105392000000, 'longTermDebt': 98667000000, 'deferredRevenueNonCurrent': 0.0, 'deferredTaxLiabilitiesNonCurrent': 0.0, 'otherNonCurrentLiabilities': 54490000000, 'totalNonCurrentLiabilities': 153157000000, 'otherLiabilities': 0.0, 'capitalLeaseObligations': 0.0, 'totalLiabilities': 258549000000, 'preferredStock': 0.0, 'commonStock': 50779000000, 'retainedEarnings': 14966000000, 'accumulatedOtherComprehensiveIncomeLoss': -406000000, 'othertotalStockholdersEquity': 0.0, 'totalStockholdersEquity': 65339000000, 'totalLiabilitiesAndStockholdersEquity': 323888000000, 'minorityInterest': 0, 'totalEquity': 65339000000, 'totalLiabilitiesAndTotalEquity': 323888000000, 'totalInvestments': 153814000000, 'totalDebt': 112436000000, 'netDebt': 74420000000, 'link': 'https://www.sec.gov/Archives/edgar/data/320193/000032019320000096/0000320193-20-000096-index.htm', 'finalLink': 'https://www.sec.gov/Archives/edgar/data/320193/000032019320000096/aapl-20200926.htm'}, {'date': '2019-09-28', 'symbol': 'AAPL', 'reportedCurrency': 'USD', 'cik': '0000320193', 'fillingDate': '2019-10-31', 'acceptedDate': '2019-10-30 18:12:36', 'calendarYear': '2019', 'period': 'FY', 'cashAndCashEquivalents': 48844000000, 'shortTermInvestments': 51713000000, 'cashAndShortTermInvestments': 100557000000, 'netReceivables': 45804000000, 'inventory': 4106000000, 'otherCurrentAssets': 12352000000, 'totalCurrentAssets': 162819000000, 'propertyPlantEquipmentNet': 37378000000, 'goodwill': 0.0, 'intangibleAssets': 0.0, 'goodwillAndIntangibleAssets': 0.0, 'longTermInvestments': 105341000000, 'taxAssets': 0.0, 'otherNonCurrentAssets': 32978000000, 'totalNonCurrentAssets': 175697000000, 'otherAssets': 0.0, 'totalAssets': 338516000000, 'accountPayables': 46236000000, 'shortTermDebt': 16240000000, 'taxPayables': 0.0, 'deferredRevenue': 5522000000, 'otherCurrentLiabilities': 37720000000, 'totalCurrentLiabilities': 105718000000, 'longTermDebt': 91807000000, 'deferredRevenueNonCurrent': 0.0, 'deferredTaxLiabilitiesNonCurrent': 0.0, 'otherNonCurrentLiabilities': 50503000000, 'totalNonCurrentLiabilities': 142310000000, 'otherLiabilities': 0.0, 'capitalLeaseObligations': 0.0, 'totalLiabilities': 248028000000, 'preferredStock': 0.0, 'commonStock': 45174000000, 'retainedEarnings': 45898000000, 'accumulatedOtherComprehensiveIncomeLoss': -584000000, 'othertotalStockholdersEquity': 0.0, 'totalStockholdersEquity': 90488000000, 'totalLiabilitiesAndStockholdersEquity': 338516000000, 'minorityInterest': 0, 'totalEquity': 90488000000, 'totalLiabilitiesAndTotalEquity': 338516000000, 'totalInvestments': 157054000000, 'totalDebt': 108047000000, 'netDebt': 59203000000, 'link': 'https://www.sec.gov/Archives/edgar/data/320193/000032019319000119/0000320193-19-000119-index.html', 'finalLink': 'https://www.sec.gov/Archives/edgar/data/320193/000032019319000119/a10-k20199282019.htm'}, {'date': '2018-09-29', 'symbol': 'AAPL', 'reportedCurrency': 'USD', 'cik': '0000320193', 'fillingDate': '2018-11-05', 'acceptedDate': '2018-11-05 08:01:40', 'calendarYear': '2018', 'period': 'FY', 'cashAndCashEquivalents': 25913000000, 'shortTermInvestments': 40388000000, 'cashAndShortTermInvestments': 66301000000, 'netReceivables': 48995000000, 'inventory': 3956000000, 'otherCurrentAssets': 12087000000, 'totalCurrentAssets': 131339000000, 'propertyPlantEquipmentNet': 41304000000, 'goodwill': 0.0, 'intangibleAssets': 0.0, 'goodwillAndIntangibleAssets': 0.0, 'longTermInvestments': 170799000000, 'taxAssets': 0.0, 'otherNonCurrentAssets': 22283000000, 'totalNonCurrentAssets': 234386000000, 'otherAssets': 0.0, 'totalAssets': 365725000000, 'accountPayables': 55888000000, 'shortTermDebt': 20748000000, 'taxPayables': 0.0, 'deferredRevenue': 7543000000, 'otherCurrentLiabilities': 32687000000, 'totalCurrentLiabilities': 116866000000, 'longTermDebt': 93735000000, 'deferredRevenueNonCurrent': 2797000000, 'deferredTaxLiabilitiesNonCurrent': 426000000, 'otherNonCurrentLiabilities': 44754000000, 'totalNonCurrentLiabilities': 141712000000, 'otherLiabilities': 0.0, 'capitalLeaseObligations': 0.0, 'totalLiabilities': 258578000000, 'preferredStock': 0.0, 'commonStock': 40201000000, 'retainedEarnings': 70400000000, 'accumulatedOtherComprehensiveIncomeLoss': -3454000000, 'othertotalStockholdersEquity': 0.0, 'totalStockholdersEquity': 107147000000, 'totalLiabilitiesAndStockholdersEquity': 365725000000, 'minorityInterest': 0, 'totalEquity': 107147000000, 'totalLiabilitiesAndTotalEquity': 365725000000, 'totalInvestments': 211187000000, 'totalDebt': 114483000000, 'netDebt': 88570000000, 'link': 'https://www.sec.gov/Archives/edgar/data/320193/000032019318000145/0000320193-18-000145-index.html', 'finalLink': 'https://www.sec.gov/Archives/edgar/data/320193/000032019318000145/a10-k20189292018.htm'}, {'date': '2017-09-30', 'symbol': 'AAPL', 'reportedCurrency': 'USD', 'cik': '0000320193', 'fillingDate': '2017-11-03', 'acceptedDate': '2017-11-03 08:01:37', 'calendarYear': '2017', 'period': 'FY', 'cashAndCashEquivalents': 20289000000, 'shortTermInvestments': 53892000000, 'cashAndShortTermInvestments': 74181000000, 'netReceivables': 35673000000, 'inventory': 4855000000, 'otherCurrentAssets': 13936000000, 'totalCurrentAssets': 128645000000, 'propertyPlantEquipmentNet': 33783000000, 'goodwill': 5717000000, 'intangibleAssets': 2298000000, 'goodwillAndIntangibleAssets': 8015000000, 'longTermInvestments': 194714000000, 'taxAssets': 0.0, 'otherNonCurrentAssets': 10162000000, 'totalNonCurrentAssets': 246674000000, 'otherAssets': 0.0, 'totalAssets': 375319000000, 'accountPayables': 49049000000, 'shortTermDebt': 18473000000, 'taxPayables': 0.0, 'deferredRevenue': 7548000000, 'otherCurrentLiabilities': 25744000000, 'totalCurrentLiabilities': 100814000000, 'longTermDebt': 97207000000, 'deferredRevenueNonCurrent': 2836000000, 'deferredTaxLiabilitiesNonCurrent': 31504000000, 'otherNonCurrentLiabilities': 8911000000, 'totalNonCurrentLiabilities': 140458000000, 'otherLiabilities': 0.0, 'capitalLeaseObligations': 0.0, 'totalLiabilities': 241272000000, 'preferredStock': 0.0, 'commonStock': 35867000000, 'retainedEarnings': 98330000000, 'accumulatedOtherComprehensiveIncomeLoss': -150000000, 'othertotalStockholdersEquity': 0.0, 'totalStockholdersEquity': 134047000000, 'totalLiabilitiesAndStockholdersEquity': 375319000000, 'minorityInterest': 0, 'totalEquity': 134047000000, 'totalLiabilitiesAndTotalEquity': 375319000000, 'totalInvestments': 248606000000, 'totalDebt': 115680000000, 'netDebt': 95391000000, 'link': 'https://www.sec.gov/Archives/edgar/data/320193/000032019317000070/0000320193-17-000070-index.html', 'finalLink': 'https://www.sec.gov/Archives/edgar/data/320193/000032019317000070/a10-k20179302017.htm'}]\n"
          ]
        }
      ],
      "source": [
        "import requests\n",
        "import pandas as pd\n",
        "myAPIkey ='5e44a5083ea7ed6ecada7c23e9f37dbe'\n",
        "stock = 'AAPL'\n",
        "\n",
        "balanceStatements = requests.get(f\"https://financialmodelingprep.com/api/v3/balance-sheet-statement/{stock}?apikey={myAPIkey}\"\n",
        ").json()\n",
        "incomeStatements = requests.get(f'https://financialmodelingprep.com/api/v3/income-statement/{stock}?apikey={myAPIkey}'\n",
        ").json()\n",
        "print(balanceStatements[:5])\n"
      ]
    },
    {
      "cell_type": "code",
      "source": [
        "FiveYearBalanceStatement=balanceStatements[:5]\n",
        "FiveYearIncomeStatement=incomeStatements[:5]\n"
      ],
      "metadata": {
        "id": "QQ6xRFL7k3DP"
      },
      "execution_count": 94,
      "outputs": []
    },
    {
      "cell_type": "code",
      "source": [
        "profitability=[]\n",
        "assetTurnOver=[]\n",
        "capitalStructure=[]\n",
        "returnOnEquitly=[]\n",
        "dates=[]\n",
        "\n",
        "for i in range(0,5):\n",
        "  dates.append(FiveYearBalanceStatement[i]['date'])\n",
        "  profitabilityValue=FiveYearIncomeStatement[i]['netIncome']/FiveYearIncomeStatement[i]['revenue']\n",
        "  profitability.append(profitabilityValue)\n",
        "  \n",
        "  assetTurnOverValue=FiveYearIncomeStatement[i]['revenue']/FiveYearBalanceStatement[i]['totalAssets']\n",
        "  assetTurnOver.append(assetTurnOverValue)\n",
        "  \n",
        "  capitalStructureValue= FiveYearBalanceStatement[i]['totalAssets']/FiveYearBalanceStatement[i]['totalStockholdersEquity']\n",
        "  capitalStructure.append(capitalStructureValue)\n",
        "\n",
        "  returnOnEquitlyValue=profitabilityValue*assetTurnOverValue*capitalStructureValue\n",
        "  returnOnEquitly.append(returnOnEquitlyValue)\n"
      ],
      "metadata": {
        "id": "URuf3kXilIji"
      },
      "execution_count": 95,
      "outputs": []
    },
    {
      "cell_type": "code",
      "source": [
        "print(returnOnEquitly)"
      ],
      "metadata": {
        "colab": {
          "base_uri": "https://localhost:8080/"
        },
        "id": "jAQMO759wGh3",
        "outputId": "653f9347-743b-4bda-8c1f-f44c58d59002"
      },
      "execution_count": 96,
      "outputs": [
        {
          "output_type": "stream",
          "name": "stdout",
          "text": [
            "[1.5007132667617686, 0.878663585301275, 0.6106445053487755, 0.5556011834209078, 0.36070184338329087]\n"
          ]
        }
      ]
    },
    {
      "cell_type": "code",
      "source": [
        "df=pd.DataFrame(columns=['date','profitability','assetTurnOver','capitalStructure','returnOnEquitly'])\n",
        "df['date']=dates\n",
        "df['profitability']=profitability\n",
        "df['assetTurnOver']=assetTurnOver\n",
        "df['capitalStructure']=capitalStructure\n",
        "df['returnOnEquitly']=returnOnEquitly\n",
        "\n",
        "print(df)"
      ],
      "metadata": {
        "colab": {
          "base_uri": "https://localhost:8080/"
        },
        "id": "hDmqRgiwxkdF",
        "outputId": "4d3d8970-7cf7-498c-f5c1-a296264b5cf2"
      },
      "execution_count": 98,
      "outputs": [
        {
          "output_type": "stream",
          "name": "stdout",
          "text": [
            "         date  profitability  assetTurnOver  capitalStructure  returnOnEquitly\n",
            "0  2021-09-25       0.258818       1.042208          5.563512         1.500713\n",
            "1  2020-09-26       0.209136       0.847562          4.957039         0.878664\n",
            "2  2019-09-28       0.212381       0.768572          3.741004         0.610645\n",
            "3  2018-09-29       0.224142       0.726215          3.413301         0.555601\n",
            "4  2017-09-30       0.210924       0.610771          2.799906         0.360702\n"
          ]
        }
      ]
    },
    {
      "cell_type": "code",
      "source": [
        "import matplotlib.pyplot as plt\n",
        "\n",
        "fig, axs= plt.subplots(4,2, figsize=(10,10))\n",
        "x=['date']\n",
        "yValues=['profitability','assetTurnOver', 'capitalStructure', 'returnOnEquitly']\n",
        "\n",
        "plt.show();"
      ],
      "metadata": {
        "colab": {
          "base_uri": "https://localhost:8080/",
          "height": 596
        },
        "id": "cnPemRG_rg0g",
        "outputId": "e82fdaea-b979-43db-eb9d-ce112eea3450"
      },
      "execution_count": 106,
      "outputs": [
        {
          "output_type": "display_data",
          "data": {
            "text/plain": [
              "<Figure size 720x720 with 8 Axes>"
            ],
            "image/png": "[encoded data removed]"
          },
          "metadata": {
            "needs_background": "light"
          }
        }
      ]
    },
    {
      "cell_type": "code",
      "source": [
        "fig, axs= plt.subplots(4,2, figsize=(10,10))\n",
        "x=oct21USA['date']\n",
        "#equivalently I could say x=oct21CAN['date']\n",
        "\n",
        "#lists are indexed from 0 so yValues[0] gives you 'tests'\n",
        "yValues=['tests','hosp', 'icu', 'deaths']\n",
        "\n",
        "#range (0,4) gives you numbers 0,1,2,3\n",
        "#range (0,2) gives you numbers 0,1\n",
        "for row in range(0,4):\n",
        "  for col in range(0,2):\n",
        "    y=oct21USA[yValues[row]] if col==0 else oct21CAN[yValues[row]]\n",
        "    yTitle='USA'+' '+yValues [row] if col==0 else 'CAN'+' '+yValues[row]\n",
        "    axs[row,col].plot(x,y)\n",
        "    axs[row,col].set_title(yTitle)\n",
        "    fig.tight_layout()"
      ],
      "metadata": {
        "id": "Gi1BqXPs2wOU"
      },
      "execution_count": null,
      "outputs": []
    }
  ]
}