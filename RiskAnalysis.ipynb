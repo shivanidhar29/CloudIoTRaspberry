{
  "nbformat": 4,
  "nbformat_minor": 0,
  "metadata": {
    "colab": {
      "name": "Untitled2.ipynb",
      "provenance": [],
      "authorship_tag": "ABX9TyMbgZrPR9ag7sbnPzCbvljQ",
      "include_colab_link": true
    },
    "kernelspec": {
      "name": "python3",
      "display_name": "Python 3"
    },
    "language_info": {
      "name": "python"
    }
  },
  "cells": [
    {
      "cell_type": "markdown",
      "metadata": {
        "id": "view-in-github",
        "colab_type": "text"
      },
      "source": [
        "<a href=\"https://colab.research.google.com/github/shivanidhar29/projects/blob/main/RiskAnalysis.ipynb\" target=\"_parent\"><img src=\"https://colab.research.google.com/assets/colab-badge.svg\" alt=\"Open In Colab\"/></a>"
      ]
    },
    {
      "cell_type": "code",
      "execution_count": 5,
      "metadata": {
        "colab": {
          "base_uri": "https://localhost:8080/",
          "height": 797
        },
        "id": "VEN0WcaQsiIH",
        "outputId": "76119546-2f32-4dee-8bc0-79202b693841"
      },
      "outputs": [
        {
          "output_type": "stream",
          "name": "stdout",
          "text": [
            "       Risk  Likelihood  Impact  Score\n",
            "0     Users         0.2       2    0.4\n",
            "1      Team         0.4       4    1.6\n",
            "2    Budget         0.6       6    3.6\n",
            "3  Security         0.8       8    6.4\n",
            "Likelihood  0.2  0.4  0.6  0.8\n",
            "Impact                        \n",
            "2           0.4  NaN  NaN  NaN\n",
            "4           NaN  1.6  NaN  NaN\n",
            "6           NaN  NaN  3.6  NaN\n",
            "8           NaN  NaN  NaN  6.4\n",
            "Likelihood    0.2   0.4     0.6       0.8\n",
            "Impact                                   \n",
            "2           Users   NaN     NaN       NaN\n",
            "4             NaN  Team     NaN       NaN\n",
            "6             NaN   NaN  Budget       NaN\n",
            "8             NaN   NaN     NaN  Security\n"
          ]
        },
        {
          "output_type": "display_data",
          "data": {
            "text/plain": [
              "<Figure size 576x576 with 2 Axes>"
            ],
            "image/png": "[encoded data removed]"
          },
          "metadata": {}
        }
      ],
      "source": [
        "import seaborn as sns\n",
        "import pandas as pd\n",
        "import numpy as np\n",
        "\n",
        "riskDF=pd.DataFrame(columns=['Risk','Likelihood','Impact','Score'])\n",
        "riskDF['Risk']=['Users','Team','Budget','Security']\n",
        "riskDF['Likelihood'] =[0.2,0.4,0.6,0.8]\n",
        "riskDF['Impact']=[2,4,6,8]\n",
        "riskDF['Score']=riskDF['Impact']*riskDF['Likelihood']\n",
        "print(riskDF)\n",
        "\n",
        "ScorePivot=riskDF.pivot('Impact','Likelihood','Score')\n",
        "print(ScorePivot)\n",
        "\n",
        "labelsPivot=riskDF.pivot('Impact','Likelihood','Risk')\n",
        "print(labelsPivot)\n",
        "\n",
        "sns.set(rc={'figure.figsize':(8,8)})\n",
        "p1=sns.heatmap(ScorePivot, cmap='hot_r',annot=labelsPivot, fmt='')\n",
        "\n"
      ]
    }
  ]
}