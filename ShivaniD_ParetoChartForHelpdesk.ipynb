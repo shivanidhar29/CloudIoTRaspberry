{
  "nbformat": 4,
  "nbformat_minor": 0,
  "metadata": {
    "colab": {
      "name": "ShivaniD_ParetoChartForHelpdesk.ipynb",
      "provenance": [],
      "authorship_tag": "ABX9TyMnpmvca/UQVasO7oGezH/x",
      "include_colab_link": true
    },
    "kernelspec": {
      "name": "python3",
      "display_name": "Python 3"
    },
    "language_info": {
      "name": "python"
    }
  },
  "cells": [
    {
      "cell_type": "markdown",
      "metadata": {
        "id": "view-in-github",
        "colab_type": "text"
      },
      "source": [
        "<a href=\"https://colab.research.google.com/github/shivanidhar29/CloudIoTRaspberry/blob/main/ShivaniD_ParetoChartForHelpdesk.ipynb\" target=\"_parent\"><img src=\"https://colab.research.google.com/assets/colab-badge.svg\" alt=\"Open In Colab\"/></a>"
      ]
    },
    {
      "cell_type": "code",
      "execution_count": 1,
      "metadata": {
        "id": "zgIkfaaDp9I_",
        "colab": {
          "base_uri": "https://localhost:8080/",
          "height": 206
        },
        "outputId": "914f70e8-b884-4d01-9853-79db6f0bb939"
      },
      "outputs": [
        {
          "output_type": "execute_result",
          "data": {
            "text/plain": [
              "    reason                         description  frequency\n",
              "0      ERP                    myIllinoinsState          7\n",
              "1      VPN                connection from home         10\n",
              "2    email                   unable to message         18\n",
              "3      PCs  office computers for staff/faculty         12\n",
              "4  printer                     unable to print         10"
            ],
            "text/html": [
              "\n",
              "  <div id=\"df-538e5a2d-f24a-45e6-9f32-955c81db3ed8\">\n",
              "    <div class=\"colab-df-container\">\n",
              "      <div>\n",
              "<style scoped>\n",
              "    .dataframe tbody tr th:only-of-type {\n",
              "        vertical-align: middle;\n",
              "    }\n",
              "\n",
              "    .dataframe tbody tr th {\n",
              "        vertical-align: top;\n",
              "    }\n",
              "\n",
              "    .dataframe thead th {\n",
              "        text-align: right;\n",
              "    }\n",
              "</style>\n",
              "<table border=\"1\" class=\"dataframe\">\n",
              "  <thead>\n",
              "    <tr style=\"text-align: right;\">\n",
              "      <th></th>\n",
              "      <th>reason</th>\n",
              "      <th>description</th>\n",
              "      <th>frequency</th>\n",
              "    </tr>\n",
              "  </thead>\n",
              "  <tbody>\n",
              "    <tr>\n",
              "      <th>0</th>\n",
              "      <td>ERP</td>\n",
              "      <td>myIllinoinsState</td>\n",
              "      <td>7</td>\n",
              "    </tr>\n",
              "    <tr>\n",
              "      <th>1</th>\n",
              "      <td>VPN</td>\n",
              "      <td>connection from home</td>\n",
              "      <td>10</td>\n",
              "    </tr>\n",
              "    <tr>\n",
              "      <th>2</th>\n",
              "      <td>email</td>\n",
              "      <td>unable to message</td>\n",
              "      <td>18</td>\n",
              "    </tr>\n",
              "    <tr>\n",
              "      <th>3</th>\n",
              "      <td>PCs</td>\n",
              "      <td>office computers for staff/faculty</td>\n",
              "      <td>12</td>\n",
              "    </tr>\n",
              "    <tr>\n",
              "      <th>4</th>\n",
              "      <td>printer</td>\n",
              "      <td>unable to print</td>\n",
              "      <td>10</td>\n",
              "    </tr>\n",
              "  </tbody>\n",
              "</table>\n",
              "</div>\n",
              "      <button class=\"colab-df-convert\" onclick=\"convertToInteractive('df-538e5a2d-f24a-45e6-9f32-955c81db3ed8')\"\n",
              "              title=\"Convert this dataframe to an interactive table.\"\n",
              "              style=\"display:none;\">\n",
              "        \n",
              "  <svg xmlns=\"http://www.w3.org/2000/svg\" height=\"24px\"viewBox=\"0 0 24 24\"\n",
              "       width=\"24px\">\n",
              "    <path d=\"M0 0h24v24H0V0z\" fill=\"none\"/>\n",
              "    <path d=\"M18.56 5.44l.94 2.06.94-2.06 2.06-.94-2.06-.94-.94-2.06-.94 2.06-2.06.94zm-11 1L8.5 8.5l.94-2.06 2.06-.94-2.06-.94L8.5 2.5l-.94 2.06-2.06.94zm10 10l.94 2.06.94-2.06 2.06-.94-2.06-.94-.94-2.06-.94 2.06-2.06.94z\"/><path d=\"M17.41 7.96l-1.37-1.37c-.4-.4-.92-.59-1.43-.59-.52 0-1.04.2-1.43.59L10.3 9.45l-7.72 7.72c-.78.78-.78 2.05 0 2.83L4 21.41c.39.39.9.59 1.41.59.51 0 1.02-.2 1.41-.59l7.78-7.78 2.81-2.81c.8-.78.8-2.07 0-2.86zM5.41 20L4 18.59l7.72-7.72 1.47 1.35L5.41 20z\"/>\n",
              "  </svg>\n",
              "      </button>\n",
              "      \n",
              "  <style>\n",
              "    .colab-df-container {\n",
              "      display:flex;\n",
              "      flex-wrap:wrap;\n",
              "      gap: 12px;\n",
              "    }\n",
              "\n",
              "    .colab-df-convert {\n",
              "      background-color: #E8F0FE;\n",
              "      border: none;\n",
              "      border-radius: 50%;\n",
              "      cursor: pointer;\n",
              "      display: none;\n",
              "      fill: #1967D2;\n",
              "      height: 32px;\n",
              "      padding: 0 0 0 0;\n",
              "      width: 32px;\n",
              "    }\n",
              "\n",
              "    .colab-df-convert:hover {\n",
              "      background-color: #E2EBFA;\n",
              "      box-shadow: 0px 1px 2px rgba(60, 64, 67, 0.3), 0px 1px 3px 1px rgba(60, 64, 67, 0.15);\n",
              "      fill: #174EA6;\n",
              "    }\n",
              "\n",
              "    [theme=dark] .colab-df-convert {\n",
              "      background-color: #3B4455;\n",
              "      fill: #D2E3FC;\n",
              "    }\n",
              "\n",
              "    [theme=dark] .colab-df-convert:hover {\n",
              "      background-color: #434B5C;\n",
              "      box-shadow: 0px 1px 3px 1px rgba(0, 0, 0, 0.15);\n",
              "      filter: drop-shadow(0px 1px 2px rgba(0, 0, 0, 0.3));\n",
              "      fill: #FFFFFF;\n",
              "    }\n",
              "  </style>\n",
              "\n",
              "      <script>\n",
              "        const buttonEl =\n",
              "          document.querySelector('#df-538e5a2d-f24a-45e6-9f32-955c81db3ed8 button.colab-df-convert');\n",
              "        buttonEl.style.display =\n",
              "          google.colab.kernel.accessAllowed ? 'block' : 'none';\n",
              "\n",
              "        async function convertToInteractive(key) {\n",
              "          const element = document.querySelector('#df-538e5a2d-f24a-45e6-9f32-955c81db3ed8');\n",
              "          const dataTable =\n",
              "            await google.colab.kernel.invokeFunction('convertToInteractive',\n",
              "                                                     [key], {});\n",
              "          if (!dataTable) return;\n",
              "\n",
              "          const docLinkHtml = 'Like what you see? Visit the ' +\n",
              "            '<a target=\"_blank\" href=https://colab.research.google.com/notebooks/data_table.ipynb>data table notebook</a>'\n",
              "            + ' to learn more about interactive tables.';\n",
              "          element.innerHTML = '';\n",
              "          dataTable['output_type'] = 'display_data';\n",
              "          await google.colab.output.renderOutput(dataTable, element);\n",
              "          const docLink = document.createElement('div');\n",
              "          docLink.innerHTML = docLinkHtml;\n",
              "          element.appendChild(docLink);\n",
              "        }\n",
              "      </script>\n",
              "    </div>\n",
              "  </div>\n",
              "  "
            ]
          },
          "metadata": {},
          "execution_count": 1
        }
      ],
      "source": [
        "import pandas as pd\n",
        "HelpdeskDF=pd.read_csv(\"/content/drive/MyDrive/HelpDesk.csv\")\n",
        "HelpdeskDF.head(5)\n",
        "\n",
        "\n",
        "\n",
        "\n",
        "\n"
      ]
    },
    {
      "cell_type": "code",
      "source": [
        "import pandas as pd\n",
        "import matplotlib.pyplot as plt\n",
        "from matplotlib.ticker import PercentFormatter\n",
        "HelpdeskDF=pd.read_csv(\"/content/drive/MyDrive/HelpDesk.csv\")\n",
        "print(HelpdeskDF)\n"
      ],
      "metadata": {
        "colab": {
          "base_uri": "https://localhost:8080/"
        },
        "id": "Rcv69gb0sQ5q",
        "outputId": "70bbaeda-7a4e-47af-b310-428a5b3665c5"
      },
      "execution_count": 2,
      "outputs": [
        {
          "output_type": "stream",
          "name": "stdout",
          "text": [
            "       reason                         description  frequency\n",
            "0         ERP                    myIllinoinsState          7\n",
            "1         VPN                connection from home         10\n",
            "2       email                   unable to message         18\n",
            "3         PCs  office computers for staff/faculty         12\n",
            "4     printer                     unable to print         10\n",
            "5    internet                   connection issues         22\n",
            "6   ReggieNet            issues accesing features          8\n",
            "7      mobile       mobile devices not connecting         14\n",
            "8    password               password reset issues         11\n",
            "9        VoIP  phone / voice message difficulties         15\n",
            "10   hardware             general hardware issues         25\n",
            "11  Office365             question accessing apps         13\n"
          ]
        }
      ]
    },
    {
      "cell_type": "code",
      "source": [
        "HelpdeskDF.index = HelpdeskDF['reason']\n",
        "HelpdeskDF = HelpdeskDF.sort_values(by ='frequency', ascending=False)\n",
        "print(HelpdeskDF)"
      ],
      "metadata": {
        "colab": {
          "base_uri": "https://localhost:8080/"
        },
        "id": "EGEoJ0pSszZn",
        "outputId": "5962d1e0-0fec-4f21-fdb7-160350e9bf91"
      },
      "execution_count": 5,
      "outputs": [
        {
          "output_type": "stream",
          "name": "stdout",
          "text": [
            "              reason                         description  frequency\n",
            "reason                                                             \n",
            "hardware    hardware             general hardware issues         25\n",
            "internet    internet                   connection issues         22\n",
            "email          email                   unable to message         18\n",
            "VoIP            VoIP  phone / voice message difficulties         15\n",
            "mobile        mobile       mobile devices not connecting         14\n",
            "Office365  Office365             question accessing apps         13\n",
            "PCs              PCs  office computers for staff/faculty         12\n",
            "password    password               password reset issues         11\n",
            "VPN              VPN                connection from home         10\n",
            "printer      printer                     unable to print         10\n",
            "ReggieNet  ReggieNet            issues accesing features          8\n",
            "ERP              ERP                    myIllinoinsState          7\n"
          ]
        }
      ]
    },
    {
      "cell_type": "code",
      "source": [
        "HelpdeskDF[\"CumulativePercentage\"] = HelpdeskDF[\"frequency\"].cumsum()/HelpdeskDF[\"frequency\"].sum()*100\n",
        "HelpdeskDF[\"CumulativePercentage\"]=HelpdeskDF[\"CumulativePercentage\"].apply(lambda x: round(x,2))\n",
        "print(HelpdeskDF)"
      ],
      "metadata": {
        "colab": {
          "base_uri": "https://localhost:8080/"
        },
        "id": "JOPIeG66tOzf",
        "outputId": "7a2d4331-d13a-46d9-92ba-508d40c78cdc"
      },
      "execution_count": 6,
      "outputs": [
        {
          "output_type": "stream",
          "name": "stdout",
          "text": [
            "              reason                         description  frequency  \\\n",
            "reason                                                                \n",
            "hardware    hardware             general hardware issues         25   \n",
            "internet    internet                   connection issues         22   \n",
            "email          email                   unable to message         18   \n",
            "VoIP            VoIP  phone / voice message difficulties         15   \n",
            "mobile        mobile       mobile devices not connecting         14   \n",
            "Office365  Office365             question accessing apps         13   \n",
            "PCs              PCs  office computers for staff/faculty         12   \n",
            "password    password               password reset issues         11   \n",
            "VPN              VPN                connection from home         10   \n",
            "printer      printer                     unable to print         10   \n",
            "ReggieNet  ReggieNet            issues accesing features          8   \n",
            "ERP              ERP                    myIllinoinsState          7   \n",
            "\n",
            "           CumulativePercentage  \n",
            "reason                           \n",
            "hardware                  15.15  \n",
            "internet                  28.48  \n",
            "email                     39.39  \n",
            "VoIP                      48.48  \n",
            "mobile                    56.97  \n",
            "Office365                 64.85  \n",
            "PCs                       72.12  \n",
            "password                  78.79  \n",
            "VPN                       84.85  \n",
            "printer                   90.91  \n",
            "ReggieNet                 95.76  \n",
            "ERP                      100.00  \n"
          ]
        }
      ]
    },
    {
      "cell_type": "code",
      "source": [
        "\n",
        "\n",
        "\n",
        "\n",
        "from matplotlib import colors\n",
        "fig, ax =plt.subplots()\n",
        "ax.bar(HelpdeskDF.index,HelpdeskDF[\"frequency\"],color=\"C0\")\n",
        "\n",
        "ax.set_xticklabels(HelpdeskDF['reason'], rotation=45)\n",
        "\n",
        "ax2 = ax.twinx()\n",
        "\n",
        "ax2.plot(HelpdeskDF.index, HelpdeskDF[\"CumulativePercentage\"], color=\"C1\", marker=\"D\", ms=10, label=HelpdeskDF[\"CumulativePercentage\"])\n",
        "\n",
        "ax2.yaxis.set_major_formatter(PercentFormatter())\n",
        "\n",
        "ax.tick_params(axis=\"y\", colors=\"C0\")\n",
        "ax2.tick_params(axis=\"y\", colors=\"C1\")\n",
        "\n",
        "for index, v in HelpdeskDF.iterrows():\n",
        "  label = round(v['CumulativePercentage'],1)\n",
        "  plt.annotate(label, xy=(v['reason'],v['CumulativePercentage']))\n",
        "\n",
        "plt.show();\n"
      ],
      "metadata": {
        "colab": {
          "base_uri": "https://localhost:8080/",
          "height": 299
        },
        "id": "xrVgRMFXvBEs",
        "outputId": "4072b245-7b04-4eb7-e9b1-ed536eee169e"
      },
      "execution_count": 19,
      "outputs": [
        {
          "output_type": "display_data",
          "data": {
            "text/plain": [
              "<Figure size 432x288 with 2 Axes>"
            ],
            "image/png": "[encoded data removed]"
          },
          "metadata": {}
        }
      ]
    }
  ]
}