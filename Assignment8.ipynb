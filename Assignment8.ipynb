{
  "nbformat": 4,
  "nbformat_minor": 0,
  "metadata": {
    "colab": {
      "name": "Assignment8.ipynb",
      "provenance": [],
      "authorship_tag": "ABX9TyPxW68db8tkLTru3bKGzHKP",
      "include_colab_link": true
    },
    "kernelspec": {
      "name": "python3",
      "display_name": "Python 3"
    },
    "language_info": {
      "name": "python"
    }
  },
  "cells": [
    {
      "cell_type": "markdown",
      "metadata": {
        "id": "view-in-github",
        "colab_type": "text"
      },
      "source": [
        "<a href=\"https://colab.research.google.com/github/shivanidhar29/projects/blob/main/Assignment8.ipynb\" target=\"_parent\"><img src=\"https://colab.research.google.com/assets/colab-badge.svg\" alt=\"Open In Colab\"/></a>"
      ]
    },
    {
      "cell_type": "code",
      "execution_count": 4,
      "metadata": {
        "colab": {
          "base_uri": "https://localhost:8080/"
        },
        "id": "B6jvRJSs_tQM",
        "outputId": "a7d2aa8b-cdaa-41b6-c43c-ab839fb91340"
      },
      "outputs": [
        {
          "output_type": "stream",
          "name": "stdout",
          "text": [
            "Number of mislabelled points out of the total 150 points: 6\n",
            "col_0   0   1   2\n",
            "row_0            \n",
            "0      50   0   0\n",
            "1       0  47   3\n",
            "2       0   3  47\n"
          ]
        }
      ],
      "source": [
        "from sklearn import datasets\n",
        "import pandas as pd\n",
        "iris = datasets.load_iris()\n",
        "from sklearn.naive_bayes import GaussianNB\n",
        "gnb = GaussianNB()\n",
        "y_pred = gnb.fit(iris.data, iris.target). predict(iris.data)\n",
        "print(\"Number of mislabelled points out of the total %d points: %d\" % (iris.data.shape[0],(iris.target !=y_pred ).sum()))\n",
        "print(pd.crosstab(gnb.predict(iris.data),iris.target))\n"
      ]
    }
  ]
}