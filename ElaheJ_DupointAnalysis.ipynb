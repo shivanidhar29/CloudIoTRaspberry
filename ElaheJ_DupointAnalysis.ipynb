{
  "nbformat": 4,
  "nbformat_minor": 0,
  "metadata": {
    "colab": {
      "name": "ElaheJ_DupointAnalysis.ipynb",
      "provenance": [],
      "collapsed_sections": [],
      "include_colab_link": true
    },
    "kernelspec": {
      "name": "python3",
      "display_name": "Python 3"
    },
    "language_info": {
      "name": "python"
    }
  },
  "cells": [
    {
      "cell_type": "markdown",
      "metadata": {
        "id": "view-in-github",
        "colab_type": "text"
      },
      "source": [
        "<a href=\"https://colab.research.google.com/github/shivanidhar29/projects/blob/main/ElaheJ_DupointAnalysis.ipynb\" target=\"_parent\"><img src=\"https://colab.research.google.com/assets/colab-badge.svg\" alt=\"Open In Colab\"/></a>"
      ]
    },
    {
      "cell_type": "code",
      "execution_count": 1,
      "metadata": {
        "id": "gf91bc39hsNx"
      },
      "outputs": [],
      "source": [
        "import requests\n",
        "import pandas as pd\n"
      ]
    },
    {
      "cell_type": "code",
      "source": [
        "myAPIKey= 'b280d0c1016895950d65a67f28126623'"
      ],
      "metadata": {
        "id": "YU0mIA8JiZgI"
      },
      "execution_count": 2,
      "outputs": []
    },
    {
      "cell_type": "code",
      "source": [
        "stock = 'FB'\n",
        "balanceStatements = requests.get(f\"https://financialmodelingprep.com/api/v3/balance-sheet-statement/{stock}?apikey={myAPIKey}\").json()\n",
        "\n",
        "\n",
        "incomeStatements= requests.get(f\"https://financialmodelingprep.com/api/v3/income-statement/{stock}?apikey={myAPIKey}\").json()\n",
        "\n",
        "print(balanceStatements [1])"
      ],
      "metadata": {
        "colab": {
          "base_uri": "https://localhost:8080/"
        },
        "id": "BbXx0oDGie7x",
        "outputId": "1477cb6a-a19b-4427-ade0-c00f25526885"
      },
      "execution_count": 3,
      "outputs": [
        {
          "output_type": "stream",
          "name": "stdout",
          "text": [
            "{'date': '2020-12-31', 'symbol': 'FB', 'reportedCurrency': 'USD', 'cik': '0001326801', 'fillingDate': '2021-01-28', 'acceptedDate': '2021-01-27 21:13:48', 'calendarYear': '2020', 'period': 'FY', 'cashAndCashEquivalents': 17576000000, 'shortTermInvestments': 44378000000, 'cashAndShortTermInvestments': 61954000000, 'netReceivables': 11335000000, 'inventory': 0.0, 'otherCurrentAssets': 2381000000, 'totalCurrentAssets': 75670000000, 'propertyPlantEquipmentNet': 54981000000, 'goodwill': 19050000000, 'intangibleAssets': 623000000, 'goodwillAndIntangibleAssets': 19673000000, 'longTermInvestments': 6234000000, 'taxAssets': 0.0, 'otherNonCurrentAssets': 2758000000, 'totalNonCurrentAssets': 83646000000, 'otherAssets': 0.0, 'totalAssets': 159316000000, 'accountPayables': 1331000000, 'shortTermDebt': 1023000000, 'taxPayables': 2038000000, 'deferredRevenue': 382000000, 'otherCurrentLiabilities': 12245000000, 'totalCurrentLiabilities': 14981000000, 'longTermDebt': 9631000000, 'deferredRevenueNonCurrent': 0.0, 'deferredTaxLiabilitiesNonCurrent': 0.0, 'otherNonCurrentLiabilities': 6414000000, 'totalNonCurrentLiabilities': 16045000000, 'otherLiabilities': 0.0, 'capitalLeaseObligations': 10654000000, 'totalLiabilities': 31026000000, 'preferredStock': 0.0, 'commonStock': 0.0, 'retainedEarnings': 77345000000, 'accumulatedOtherComprehensiveIncomeLoss': 927000000, 'othertotalStockholdersEquity': 0.0, 'totalStockholdersEquity': 128290000000, 'totalLiabilitiesAndStockholdersEquity': 159316000000, 'minorityInterest': 0, 'totalEquity': 128290000000, 'totalLiabilitiesAndTotalEquity': 159316000000, 'totalInvestments': 50612000000, 'totalDebt': 10654000000, 'netDebt': -6922000000, 'link': 'https://www.sec.gov/Archives/edgar/data/1326801/000132680121000014/0001326801-21-000014-index.htm', 'finalLink': 'https://www.sec.gov/Archives/edgar/data/1326801/000132680121000014/fb-20201231.htm'}\n"
          ]
        }
      ]
    },
    {
      "cell_type": "code",
      "source": [
        "twoYearBalanceStatement=balanceStatements[:5]\n",
        "twoYearIncomeStatement=incomeStatements[:5]"
      ],
      "metadata": {
        "id": "sshs4YQGj4Bq"
      },
      "execution_count": 4,
      "outputs": []
    },
    {
      "cell_type": "code",
      "source": [
        "profitability=[]\n",
        "assetTurnOver=[]\n",
        "capitalStructure=[]\n",
        "returnOnEquity=[]\n",
        "year=[]\n",
        "for i in range(0,5):\n",
        "  profitabilityValue=twoYearIncomeStatement[i]['netIncome']/twoYearIncomeStatement[i]['revenue']\n",
        "  profitability.append(profitabilityValue)\n",
        "  assetTurnOverValue=twoYearIncomeStatement[i]['revenue']/twoYearBalanceStatement[i]['totalAssets']\n",
        "  assetTurnOver.append(assetTurnOverValue)\n",
        "  capitalStructureValue=twoYearBalanceStatement[i]['totalAssets']/twoYearBalanceStatement[i]['totalStockholdersEquity']\n",
        "  capitalStructure.append(capitalStructureValue)\n",
        "  returnOnEquityValue=profitabilityValue*assetTurnOverValue*capitalStructureValue\n",
        "  returnOnEquity.append(returnOnEquityValue)\n",
        "  print(returnOnEquity)\n",
        "  year.append(twoYearIncomeStatement[i]['calendarYear'])\n"
      ],
      "metadata": {
        "colab": {
          "base_uri": "https://localhost:8080/"
        },
        "id": "iMS8Rdi0kGms",
        "outputId": "03df18b4-4d17-44cb-c1c0-5e39adfd1adc"
      },
      "execution_count": 5,
      "outputs": [
        {
          "output_type": "stream",
          "name": "stdout",
          "text": [
            "[0.31526517669103693]\n",
            "[0.31526517669103693, 0.22718840127835369]\n",
            "[0.31526517669103693, 0.22718840127835369, 0.18292200209788825]\n",
            "[0.31526517669103693, 0.22718840127835369, 0.18292200209788825, 0.2628407051243953]\n",
            "[0.31526517669103693, 0.22718840127835369, 0.18292200209788825, 0.2628407051243953, 0.21431934039033185]\n"
          ]
        }
      ]
    },
    {
      "cell_type": "code",
      "source": [
        "import numpy as np\n",
        "import matplotlib.pyplot as plt\n",
        "#Net Margin - Line Chart, Return on Equity - Line Chart, Asset Turnover (Sales/Total Assets) - Bar Chart, Leverage (Total Assets/Net Worth) - Bar Chart\n",
        "xpos = np.arange(len(year))\n",
        "plt.bar(xpos + 0.0, assetTurnOver, color = 'lightcoral', width = 0.3)\n",
        "plt.bar(xpos + 0.2, capitalStructure, color = 'chocolate', width = 0.3)\n",
        "plt.plot(xpos, returnOnEquity, color = 'darkorange')\n",
        "plt.plot(xpos, profitability, color = 'lawngreen')\n",
        "plt.xticks(xpos, year)\n",
        "plt.title('DuPoint Analysis')\n",
        "plt.show()"
      ],
      "metadata": {
        "colab": {
          "base_uri": "https://localhost:8080/",
          "height": 281
        },
        "id": "_vq8Z1mIvkmG",
        "outputId": "6670bd9f-35d7-4923-d41f-5de554dcbfb9"
      },
      "execution_count": 6,
      "outputs": [
        {
          "output_type": "display_data",
          "data": {
            "text/plain": [
              "<Figure size 432x288 with 1 Axes>"
            ],
            "image/png": "[encoded data removed]"
          },
          "metadata": {
            "needs_background": "light"
          }
        }
      ]
    },
    {
      "cell_type": "code",
      "source": [
        "print(year)\n",
        "\n",
        "print(assetTurnOver)\n",
        "print(capitalStructure)\n",
        "print(profitability)\n",
        "print(returnOnEquity)"
      ],
      "metadata": {
        "colab": {
          "base_uri": "https://localhost:8080/"
        },
        "id": "ThjbOJyey08V",
        "outputId": "7b9ed18e-ce1b-47f6-e024-a02e29663b40"
      },
      "execution_count": 7,
      "outputs": [
        {
          "output_type": "stream",
          "name": "stdout",
          "text": [
            "['2021', '2020', '2019', '2018', '2017']\n",
            "[0.7104713019694313, 0.539587988651485, 0.5300578814779271, 0.5736741529167608, 0.4809639865600303]\n",
            "[1.3291826488040424, 1.2418427001325123, 1.3198487937142518, 1.1569888383039928, 1.1368851466770684]\n",
            "[0.3338449405998525, 0.3390449601582039, 0.2614679547929898, 0.39600272216053584, 0.39195139350109465]\n",
            "[0.31526517669103693, 0.22718840127835369, 0.18292200209788825, 0.2628407051243953, 0.21431934039033185]\n"
          ]
        }
      ]
    }
  ]
}