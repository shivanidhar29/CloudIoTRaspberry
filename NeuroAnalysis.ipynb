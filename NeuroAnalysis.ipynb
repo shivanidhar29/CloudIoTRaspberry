{
  "nbformat": 4,
  "nbformat_minor": 0,
  "metadata": {
    "colab": {
      "name": "NeuroAnalysis.ipynb",
      "provenance": [],
      "authorship_tag": "ABX9TyOVeYKcGjOhVUZz1dq9xvtX",
      "include_colab_link": true
    },
    "kernelspec": {
      "name": "python3",
      "display_name": "Python 3"
    },
    "language_info": {
      "name": "python"
    }
  },
  "cells": [
    {
      "cell_type": "markdown",
      "metadata": {
        "id": "view-in-github",
        "colab_type": "text"
      },
      "source": [
        "<a href=\"https://colab.research.google.com/github/shivanidhar29/projects/blob/main/NeuroAnalysis.ipynb\" target=\"_parent\"><img src=\"https://colab.research.google.com/assets/colab-badge.svg\" alt=\"Open In Colab\"/></a>"
      ]
    },
    {
      "cell_type": "code",
      "execution_count": 8,
      "metadata": {
        "colab": {
          "base_uri": "https://localhost:8080/"
        },
        "id": "Ttev2_fIcBL5",
        "outputId": "eb31e140-ed9f-4393-cbfa-2759dd4c918c"
      },
      "outputs": [
        {
          "output_type": "stream",
          "name": "stdout",
          "text": [
            "2.8.2\n",
            "Size of the image train dataset:  (60000, 28, 28)\n",
            "Length of the Labels:  60000\n",
            "These are Labels: 3\n",
            "Size of the test datatset:  (10000, 28, 28)\n",
            "Length of the Labels for test data:  10000\n"
          ]
        }
      ],
      "source": [
        "from __future__ import absolute_import, division, print_function, unicode_literals\n",
        "import tensorflow as tf\n",
        "from tensorflow import keras\n",
        "import numpy as np\n",
        "import matplotlib.pyplot as plt\n",
        "\n",
        "print(tf.__version__)\n",
        "\n",
        "fashion_mnist=keras.datasets.fashion_mnist\n",
        "(train_images, train_labels),(test_images, test_labels)=fashion_mnist.load_data()\n",
        "\n",
        "class_names=['T-shirt/top','Trouser','Pullover','Dress','Coat','Sandal','Shirt','Sneaker','Bag','Ankel boot']\n",
        "print('Size of the image train dataset: ',train_images.shape)\n",
        "print('Length of the Labels: ',len(train_labels))\n",
        "print('These are Labels:',train_labels)\n",
        "print('Size of the test datatset: ',test_images.shape)\n",
        "print('Length of the Labels for test data: ',len(test_labels))\n"
      ]
    },
    {
      "cell_type": "code",
      "source": [
        "plt.figure()\n",
        "plt.imshow(train_images[5])\n",
        "plt.colorbar()\n",
        "plt.grid(False)\n",
        "plt.show()\n",
        "train_images=train_images / 255.0\n",
        "test_images=test_images / 255.0\n",
        "plt.figure()\n",
        "plt.imshow(train_images[1],cmap=plt.cm.binary)\n",
        "plt.grid(False)\n",
        "plt.show()\n",
        "\n"
      ],
      "metadata": {
        "colab": {
          "base_uri": "https://localhost:8080/",
          "height": 524
        },
        "id": "tOBHthfxeDEC",
        "outputId": "b68d12f9-af3c-463b-b971-bea4f6e5f8d5"
      },
      "execution_count": 12,
      "outputs": [
        {
          "output_type": "display_data",
          "data": {
            "text/plain": [
              "<Figure size 432x288 with 2 Axes>"
            ],
            "image/png": "[encoded data removed]"
          },
          "metadata": {
            "needs_background": "light"
          }
        },
        {
          "output_type": "display_data",
          "data": {
            "text/plain": [
              "<Figure size 432x288 with 1 Axes>"
            ],
            "image/png": "[encoded data removed]"
          },
          "metadata": {
            "needs_background": "light"
          }
        }
      ]
    },
    {
      "cell_type": "code",
      "source": [
        "from keras.layers import Dense, Flatten\n",
        "myModel=keras.Sequential([\n",
        "keras.layers.Flatten(input_shape=(28,28)),\n",
        "keras.layers.Dense(128,activation='relu'),\n",
        "keras.layers.Dense(128,activation=''),\n",
        "keras.layers.Dense(10,activation='softmax')\n",
        "])\n",
        "myModel.compile(optimizer='adam', loss='sparse_categorical_crossentropy', metrics=['accuracy'])\n",
        "myModel.fit(train_images, train_labels, epochs=10)\n",
        "test_loss, test_acc=myModel.evaluate(test_images, test_labels, verbose=2)\n",
        "print('\\nTest accuracy:', test_acc)\n",
        "predictions=myModel.predict(test_images)\n",
        "np.argmax(predictions[0])"
      ],
      "metadata": {
        "colab": {
          "base_uri": "https://localhost:8080/"
        },
        "id": "xc2hCb4zg9nu",
        "outputId": "941b4dea-6a9c-445b-cc54-20dbbb5250a4"
      },
      "execution_count": 7,
      "outputs": [
        {
          "output_type": "stream",
          "name": "stdout",
          "text": [
            "Epoch 1/10\n",
            "1875/1875 [==============================] - 6s 3ms/step - loss: 0.4969 - accuracy: 0.8242\n",
            "Epoch 2/10\n",
            "1875/1875 [==============================] - 5s 3ms/step - loss: 0.3735 - accuracy: 0.8649\n",
            "Epoch 3/10\n",
            "1875/1875 [==============================] - 5s 3ms/step - loss: 0.3361 - accuracy: 0.8779\n",
            "Epoch 4/10\n",
            "1875/1875 [==============================] - 5s 3ms/step - loss: 0.3123 - accuracy: 0.8847\n",
            "Epoch 5/10\n",
            "1875/1875 [==============================] - 5s 3ms/step - loss: 0.2939 - accuracy: 0.8909\n",
            "Epoch 6/10\n",
            "1875/1875 [==============================] - 5s 3ms/step - loss: 0.2785 - accuracy: 0.8978\n",
            "Epoch 7/10\n",
            "1875/1875 [==============================] - 5s 3ms/step - loss: 0.2662 - accuracy: 0.9004\n",
            "Epoch 8/10\n",
            "1875/1875 [==============================] - 5s 3ms/step - loss: 0.2565 - accuracy: 0.9042\n",
            "Epoch 9/10\n",
            "1875/1875 [==============================] - 5s 3ms/step - loss: 0.2474 - accuracy: 0.9071\n",
            "Epoch 10/10\n",
            "1875/1875 [==============================] - 5s 3ms/step - loss: 0.2366 - accuracy: 0.9121\n",
            "313/313 - 1s - loss: 0.3327 - accuracy: 0.8833 - 550ms/epoch - 2ms/step\n",
            "\n",
            "Test accuracy: 0.8833000063896179\n"
          ]
        },
        {
          "output_type": "execute_result",
          "data": {
            "text/plain": [
              "9"
            ]
          },
          "metadata": {},
          "execution_count": 7
        }
      ]
    },
    {
      "cell_type": "code",
      "source": [
        " \n",
        "Fill in blank with the following phrases: Optimizer, Loss function, Metrics  \n",
        "___Loss functions_how the model is updated based on the data it sees and its loss function.\n",
        "___Matrics________Used to monitor the training and testing steps. The following example uses accuracy, the fraction of the images that are correctly classified\n",
        "___Optimizer______measures how accurate the model is during training. You want to minimize this function to \"steer\" the model in the right direction.\n",
        "1. 10k\n",
        "2. 2\n",
        "3. \n",
        "4.\n",
        "5. keras.layers.Flatten(input_shape=(28,28)),\n",
        "6. \n",
        "7 Complile myModel.compile(optimizer='adam',\n"
      ],
      "metadata": {
        "id": "iCcq3KBuimBa"
      },
      "execution_count": null,
      "outputs": []
    }
  ]
}