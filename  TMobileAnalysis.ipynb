{
  "nbformat": 4,
  "nbformat_minor": 0,
  "metadata": {
    "colab": {
      "name": "Untitled3.ipynb",
      "provenance": [],
      "authorship_tag": "ABX9TyO4KuUzQ+EbbjFF0XFaX3us",
      "include_colab_link": true
    },
    "kernelspec": {
      "name": "python3",
      "display_name": "Python 3"
    },
    "language_info": {
      "name": "python"
    }
  },
  "cells": [
    {
      "cell_type": "markdown",
      "metadata": {
        "id": "view-in-github",
        "colab_type": "text"
      },
      "source": [
        "<a href=\"https://colab.research.google.com/github/shivanidhar29/projects/blob/main/%20TMobileAnalysis.ipynb\" target=\"_parent\"><img src=\"https://colab.research.google.com/assets/colab-badge.svg\" alt=\"Open In Colab\"/></a>"
      ]
    },
    {
      "cell_type": "code",
      "execution_count": 26,
      "metadata": {
        "colab": {
          "base_uri": "https://localhost:8080/"
        },
        "id": "O7wRO5IHQMaA",
        "outputId": "219752f2-aaa7-414e-85a6-fa50191af797"
      },
      "outputs": [
        {
          "output_type": "stream",
          "name": "stdout",
          "text": [
            "[{'date': '2021-12-31', 'symbol': 'TMUS', 'reportedCurrency': 'USD', 'cik': '0001283699', 'fillingDate': '2022-02-11', 'acceptedDate': '2022-02-11 16:09:17', 'calendarYear': '2021', 'period': 'FY', 'cashAndCashEquivalents': 6631000000, 'shortTermInvestments': 0.0, 'cashAndShortTermInvestments': 6631000000, 'netReceivables': 8942000000, 'inventory': 2567000000, 'otherCurrentAssets': 2751000000, 'totalCurrentAssets': 20891000000, 'propertyPlantEquipmentNet': 70084000000, 'goodwill': 12188000000, 'intangibleAssets': 97339000000, 'goodwillAndIntangibleAssets': 109527000000, 'longTermInvestments': 0.0, 'taxAssets': 0.0, 'otherNonCurrentAssets': 6061000000, 'totalNonCurrentAssets': 185672000000, 'otherAssets': 0.0, 'totalAssets': 206563000000, 'accountPayables': 6499000000, 'shortTermDebt': 10168000000, 'taxPayables': 1830000000, 'deferredRevenue': 856000000, 'otherCurrentLiabilities': 5976000000, 'totalCurrentLiabilities': 23499000000, 'longTermDebt': 95843000000, 'deferredRevenueNonCurrent': 0.0, 'deferredTaxLiabilitiesNonCurrent': 10216000000, 'otherNonCurrentLiabilities': 7903000000, 'totalNonCurrentLiabilities': 113962000000, 'otherLiabilities': 0.0, 'capitalLeaseObligations': 31818000000, 'totalLiabilities': 137461000000, 'preferredStock': 0, 'commonStock': 0.0, 'retainedEarnings': -2812000000, 'accumulatedOtherComprehensiveIncomeLoss': -1365000000, 'othertotalStockholdersEquity': 0.0, 'totalStockholdersEquity': 69102000000, 'totalLiabilitiesAndStockholdersEquity': 206563000000, 'minorityInterest': 0, 'totalEquity': 69102000000, 'totalLiabilitiesAndTotalEquity': 206563000000, 'totalInvestments': 0.0, 'totalDebt': 106011000000, 'netDebt': 99380000000, 'link': 'https://www.sec.gov/Archives/edgar/data/1283699/000128369922000018/0001283699-22-000018-index.htm', 'finalLink': 'https://www.sec.gov/Archives/edgar/data/1283699/000128369922000018/tmus-20211231.htm'}, {'date': '2020-12-31', 'symbol': 'TMUS', 'reportedCurrency': 'USD', 'cik': '0001283699', 'fillingDate': '2021-02-23', 'acceptedDate': '2021-02-23 16:08:26', 'calendarYear': '2020', 'period': 'FY', 'cashAndCashEquivalents': 10385000000, 'shortTermInvestments': 0.0, 'cashAndShortTermInvestments': 10385000000, 'netReceivables': 7853000000, 'inventory': 2527000000, 'otherCurrentAssets': 3120000000, 'totalCurrentAssets': 23885000000, 'propertyPlantEquipmentNet': 72224000000, 'goodwill': 11117000000, 'intangibleAssets': 88126000000, 'goodwillAndIntangibleAssets': 99243000000, 'longTermInvestments': 0.0, 'taxAssets': 0.0, 'otherNonCurrentAssets': 4810000000, 'totalNonCurrentAssets': 176277000000, 'otherAssets': 0.0, 'totalAssets': 200162000000, 'accountPayables': 10196000000, 'shortTermDebt': 9510000000, 'taxPayables': 1540000000, 'deferredRevenue': 1030000000, 'otherCurrentLiabilities': 967000000, 'totalCurrentLiabilities': 21703000000, 'longTermDebt': 66546000000, 'deferredRevenueNonCurrent': 0.0, 'deferredTaxLiabilitiesNonCurrent': 9966000000, 'otherNonCurrentLiabilities': 36603000000, 'totalNonCurrentLiabilities': 113115000000, 'otherLiabilities': 0.0, 'capitalLeaseObligations': 33094000000, 'totalLiabilities': 134818000000, 'preferredStock': 0.0, 'commonStock': 0.0, 'retainedEarnings': -5836000000, 'accumulatedOtherComprehensiveIncomeLoss': -1581000000, 'othertotalStockholdersEquity': 72761000000, 'totalStockholdersEquity': 65344000000, 'totalLiabilitiesAndStockholdersEquity': 200162000000, 'minorityInterest': 0, 'totalEquity': 65344000000, 'totalLiabilitiesAndTotalEquity': 200162000000, 'totalInvestments': 0.0, 'totalDebt': 76056000000, 'netDebt': 65671000000, 'link': 'https://www.sec.gov/Archives/edgar/data/1283699/000128369921000039/0001283699-21-000039-index.htm', 'finalLink': 'https://www.sec.gov/Archives/edgar/data/1283699/000128369921000039/tmus-20201231.htm'}, {'date': '2019-12-31', 'symbol': 'TMUS', 'reportedCurrency': 'USD', 'cik': '0001283699', 'fillingDate': '2020-02-06', 'acceptedDate': '2020-02-06 16:08:16', 'calendarYear': '2019', 'period': 'FY', 'cashAndCashEquivalents': 1528000000, 'shortTermInvestments': 0.0, 'cashAndShortTermInvestments': 1528000000, 'netReceivables': 4508000000, 'inventory': 964000000, 'otherCurrentAssets': 2305000000, 'totalCurrentAssets': 9305000000, 'propertyPlantEquipmentNet': 35632000000, 'goodwill': 1930000000, 'intangibleAssets': 36580000000, 'goodwillAndIntangibleAssets': 38510000000, 'longTermInvestments': 0.0, 'taxAssets': 0.0, 'otherNonCurrentAssets': 3474000000, 'totalNonCurrentAssets': 77616000000, 'otherAssets': 0.0, 'totalAssets': 86921000000, 'accountPayables': 4322000000, 'shortTermDebt': 3269000000, 'taxPayables': 682000000, 'deferredRevenue': 631000000, 'otherCurrentLiabilities': 4284000000, 'totalCurrentLiabilities': 12506000000, 'longTermDebt': 10958000000, 'deferredRevenueNonCurrent': 0.0, 'deferredTaxLiabilitiesNonCurrent': 5607000000, 'otherNonCurrentLiabilities': 29061000000, 'totalNonCurrentLiabilities': 45626000000, 'otherLiabilities': 0.0, 'capitalLeaseObligations': 15129000000, 'totalLiabilities': 58132000000, 'preferredStock': 0.0, 'commonStock': 0.0, 'retainedEarnings': -8833000000, 'accumulatedOtherComprehensiveIncomeLoss': -868000000, 'othertotalStockholdersEquity': 38490000000, 'totalStockholdersEquity': 28789000000, 'totalLiabilitiesAndStockholdersEquity': 86921000000, 'minorityInterest': 0, 'totalEquity': 28789000000, 'totalLiabilitiesAndTotalEquity': 86921000000, 'totalInvestments': 0.0, 'totalDebt': 14227000000, 'netDebt': 12699000000, 'link': 'https://www.sec.gov/Archives/edgar/data/1283699/000128369920000026/0001283699-20-000026-index.html', 'finalLink': 'https://www.sec.gov/Archives/edgar/data/1283699/000128369920000026/tmus-20191231.htm'}, {'date': '2018-12-31', 'symbol': 'TMUS', 'reportedCurrency': 'USD', 'cik': '0001283699', 'fillingDate': '2019-02-07', 'acceptedDate': '2019-02-07 07:46:51', 'calendarYear': '2018', 'period': 'FY', 'cashAndCashEquivalents': 1203000000, 'shortTermInvestments': 0.0, 'cashAndShortTermInvestments': 1203000000, 'netReceivables': 4318000000, 'inventory': 1084000000, 'otherCurrentAssets': 1676000000, 'totalCurrentAssets': 8281000000, 'propertyPlantEquipmentNet': 23359000000, 'goodwill': 1901000000, 'intangibleAssets': 35757000000, 'goodwillAndIntangibleAssets': 37658000000, 'longTermInvestments': 0.0, 'taxAssets': 0.0, 'otherNonCurrentAssets': 3170000000, 'totalNonCurrentAssets': 64187000000, 'otherAssets': 0.0, 'totalAssets': 72468000000, 'accountPayables': 5487000000, 'shortTermDebt': 841000000, 'taxPayables': 642000000, 'deferredRevenue': 698000000, 'otherCurrentLiabilities': 3241000000, 'totalCurrentLiabilities': 10267000000, 'longTermDebt': 26706000000, 'deferredRevenueNonCurrent': 0.0, 'deferredTaxLiabilitiesNonCurrent': 4472000000, 'otherNonCurrentLiabilities': 6305000000, 'totalNonCurrentLiabilities': 37483000000, 'otherLiabilities': 0.0, 'capitalLeaseObligations': 841000000, 'totalLiabilities': 47750000000, 'preferredStock': 0.0, 'commonStock': 0.0, 'retainedEarnings': -12954000000, 'accumulatedOtherComprehensiveIncomeLoss': -332000000, 'othertotalStockholdersEquity': 38004000000, 'totalStockholdersEquity': 24718000000, 'totalLiabilitiesAndStockholdersEquity': 72468000000, 'minorityInterest': 0, 'totalEquity': 24718000000, 'totalLiabilitiesAndTotalEquity': 72468000000, 'totalInvestments': 0.0, 'totalDebt': 27547000000, 'netDebt': 26344000000, 'link': 'https://www.sec.gov/Archives/edgar/data/1283699/000128369919000015/0001283699-19-000015-index.html', 'finalLink': 'https://www.sec.gov/Archives/edgar/data/1283699/000128369919000015/tmus12312018form10-k.htm'}, {'date': '2017-12-31', 'symbol': 'TMUS', 'reportedCurrency': 'USD', 'cik': '0001283699', 'fillingDate': '2018-02-08', 'acceptedDate': '2018-02-08 06:15:41', 'calendarYear': '2017', 'period': 'FY', 'cashAndCashEquivalents': 1219000000, 'shortTermInvestments': 0.0, 'cashAndShortTermInvestments': 1219000000, 'netReceivables': 4227000000, 'inventory': 1566000000, 'otherCurrentAssets': 1903000000, 'totalCurrentAssets': 8915000000, 'propertyPlantEquipmentNet': 22196000000, 'goodwill': 1683000000, 'intangibleAssets': 35583000000, 'goodwillAndIntangibleAssets': 37266000000, 'longTermInvestments': 0.0, 'taxAssets': 0.0, 'otherNonCurrentAssets': 2186000000, 'totalNonCurrentAssets': 61648000000, 'otherAssets': 0.0, 'totalAssets': 70563000000, 'accountPayables': 6182000000, 'shortTermDebt': 1612000000, 'taxPayables': 620000000, 'deferredRevenue': 779000000, 'otherCurrentLiabilities': 2942000000, 'totalCurrentLiabilities': 11515000000, 'longTermDebt': 12121000000, 'deferredRevenueNonCurrent': 0.0, 'deferredTaxLiabilitiesNonCurrent': 3537000000, 'otherNonCurrentLiabilities': 20831000000, 'totalNonCurrentLiabilities': 36489000000, 'otherLiabilities': 0.0, 'capitalLeaseObligations': 0.0, 'totalLiabilities': 48004000000, 'preferredStock': 0.0, 'commonStock': 0.0, 'retainedEarnings': -16074000000, 'accumulatedOtherComprehensiveIncomeLoss': 8000000.0, 'othertotalStockholdersEquity': 38625000000, 'totalStockholdersEquity': 22559000000, 'totalLiabilitiesAndStockholdersEquity': 70563000000, 'minorityInterest': 0, 'totalEquity': 22559000000, 'totalLiabilitiesAndTotalEquity': 70563000000, 'totalInvestments': 0.0, 'totalDebt': 13733000000, 'netDebt': 12514000000, 'link': 'https://www.sec.gov/Archives/edgar/data/1283699/000128369918000011/0001283699-18-000011-index.html', 'finalLink': 'https://www.sec.gov/Archives/edgar/data/1283699/000128369918000011/tmus12312017form10-k.htm'}]\n"
          ]
        }
      ],
      "source": [
        "import requests\n",
        "import pandas as pd\n",
        "myAPIkey ='5e44a5083ea7ed6ecada7c23e9f37dbe'\n",
        "stock = 'TMUS'\n",
        "\n",
        "balanceStatements = requests.get(f\"https://financialmodelingprep.com/api/v3/balance-sheet-statement/{stock}?apikey={myAPIkey}\"\n",
        ").json()\n",
        "incomeStatements = requests.get(f'https://financialmodelingprep.com/api/v3/income-statement/{stock}?apikey={myAPIkey}'\n",
        ").json()\n",
        "print(balanceStatements[:5])"
      ]
    },
    {
      "cell_type": "code",
      "source": [
        "twoYearBalanceStatement=balanceStatements[:5]\n",
        "twoYearIncomeStatement=incomeStatements[:5]\n"
      ],
      "metadata": {
        "id": "cZCoDya8QQni"
      },
      "execution_count": 27,
      "outputs": []
    },
    {
      "cell_type": "code",
      "source": [
        "profitability=[]\n",
        "assetTurnOver=[]\n",
        "capitalStructure=[]\n",
        "returnOnEquity=[]\n",
        "year=[]\n",
        "for i in range(0,5):\n",
        "  profitabilityValue=twoYearIncomeStatement[i]['netIncome']/twoYearIncomeStatement[i]['revenue']\n",
        "  profitability.append(profitabilityValue)\n",
        "  assetTurnOverValue=twoYearIncomeStatement[i]['revenue']/twoYearBalanceStatement[i]['totalAssets']\n",
        "  assetTurnOver.append(assetTurnOverValue)\n",
        "  capitalStructureValue=twoYearBalanceStatement[i]['totalAssets']/twoYearBalanceStatement[i]['totalStockholdersEquity']\n",
        "  capitalStructure.append(capitalStructureValue)\n",
        "  returnOnEquityValue=profitabilityValue*assetTurnOverValue*capitalStructureValue\n",
        "  returnOnEquity.append(returnOnEquityValue)\n",
        "  print(returnOnEquity)\n",
        "  year.append(twoYearIncomeStatement[i]['calendarYear'])\n"
      ],
      "metadata": {
        "colab": {
          "base_uri": "https://localhost:8080/"
        },
        "id": "OP3nE4stQTwJ",
        "outputId": "e8914bc7-e065-4174-ee49-847376ccb885"
      },
      "execution_count": 29,
      "outputs": [
        {
          "output_type": "stream",
          "name": "stdout",
          "text": [
            "[0.04376139619692628]\n",
            "[0.04376139619692628, 0.046890303623898136]\n",
            "[0.04376139619692628, 0.046890303623898136, 0.12046267671680157]\n",
            "[0.04376139619692628, 0.046890303623898136, 0.12046267671680157, 0.11683793187151063]\n",
            "[0.04376139619692628, 0.046890303623898136, 0.12046267671680157, 0.11683793187151063, 0.20107274258610755]\n"
          ]
        }
      ]
    },
    {
      "cell_type": "code",
      "source": [
        "df=pd.DataFrame(columns=['calendarYear','profitability','assetTurnOver','capitalStructure','returnOnEquity'])\n",
        "df['calendarYear']=year\n",
        "df['profitability']=profitability\n",
        "df['assetTurnOver']=assetTurnOver\n",
        "df['capitalStructure']=capitalStructure\n",
        "df['returnOnEquity']=returnOnEquity\n",
        "\n",
        "print(df)"
      ],
      "metadata": {
        "colab": {
          "base_uri": "https://localhost:8080/"
        },
        "id": "rXU01TNRQd8l",
        "outputId": "464c0a5b-a09c-40aa-db48-7f2e1750c808"
      },
      "execution_count": 35,
      "outputs": [
        {
          "output_type": "stream",
          "name": "stdout",
          "text": [
            "  calendarYear  profitability  assetTurnOver  capitalStructure  returnOnEquity\n",
            "0         2021       0.037744       0.387862          2.989248        0.043761\n",
            "1         2020       0.044797       0.341708          3.063204        0.046890\n",
            "2         2019       0.077070       0.517688          3.019243        0.120463\n",
            "3         2018       0.066682       0.597643          2.931791        0.116838\n",
            "4         2017       0.111713       0.575429          3.127931        0.201073\n"
          ]
        }
      ]
    },
    {
      "cell_type": "code",
      "source": [
        "import numpy as np\n",
        "import matplotlib.pyplot as plt\n",
        "#Net Margin - Line Chart, Return on Equity - Line Chart, Asset Turnover (Sales/Total Assets) - Bar Chart, Leverage (Total Assets/Net Worth) - Bar Chart\n",
        "xpos = np.arange(len(year))\n",
        "plt.bar(xpos + 0.1, assetTurnOver, color = 'coral', width = 0.5)\n",
        "plt.bar(xpos + 0.5, capitalStructure, color = 'blue', width = 0.5)\n",
        "plt.plot(xpos, returnOnEquity, color = 'red')\n",
        "plt.plot(xpos, profitability, color = 'yellow')\n",
        "plt.xticks(xpos, year)\n",
        "plt.title('DuPoint Analysis for T-Mobile')\n",
        "plt.show()"
      ],
      "metadata": {
        "colab": {
          "base_uri": "https://localhost:8080/",
          "height": 281
        },
        "id": "wLoPdCW-RCUP",
        "outputId": "cc2a8ffa-da81-4eae-9c00-64c42272596a"
      },
      "execution_count": 36,
      "outputs": [
        {
          "output_type": "display_data",
          "data": {
            "text/plain": [
              "<Figure size 432x288 with 1 Axes>"
            ],
            "image/png": "[encoded data removed]"
          },
          "metadata": {
            "needs_background": "light"
          }
        }
      ]
    },
    {
      "cell_type": "code",
      "source": [
        "print(year)\n",
        "\n",
        "print(assetTurnOver)\n",
        "print(capitalStructure)\n",
        "print(profitability)\n",
        "print(returnOnEquity)"
      ],
      "metadata": {
        "colab": {
          "base_uri": "https://localhost:8080/"
        },
        "id": "YXN1UPbjTGX2",
        "outputId": "e4148201-03f6-4d6d-cb30-a1e0e06df4a5"
      },
      "execution_count": 32,
      "outputs": [
        {
          "output_type": "stream",
          "name": "stdout",
          "text": [
            "['2021', '2020', '2019', '2018', '2017']\n",
            "[0.38786229866917116, 0.34170821634476073, 0.5176884757423408, 0.5976430976430976, 0.575429049218429]\n",
            "[2.9892477786460594, 3.0632039666993145, 3.019243461044149, 2.9317905979448176, 3.1279312026242296]\n",
            "[0.03774432711750168, 0.044797286430691405, 0.07707009200408907, 0.06668205957053798, 0.11171313171116146]\n",
            "[0.04376139619692628, 0.046890303623898136, 0.12046267671680157, 0.11683793187151063, 0.20107274258610755]\n"
          ]
        }
      ]
    }
  ]
}