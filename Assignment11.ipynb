{
  "nbformat": 4,
  "nbformat_minor": 0,
  "metadata": {
    "colab": {
      "name": "Assignment11.ipynb",
      "provenance": [],
      "mount_file_id": "1aR1a7EHsSVW27MggWxtiJP7eWtYxnoAi",
      "authorship_tag": "ABX9TyN1eMoLbaek6HJ2sgUBmes8",
      "include_colab_link": true
    },
    "kernelspec": {
      "name": "python3",
      "display_name": "Python 3"
    },
    "language_info": {
      "name": "python"
    }
  },
  "cells": [
    {
      "cell_type": "markdown",
      "metadata": {
        "id": "view-in-github",
        "colab_type": "text"
      },
      "source": [
        "<a href=\"https://colab.research.google.com/github/shivanidhar29/projects/blob/main/Assignment11.ipynb\" target=\"_parent\"><img src=\"https://colab.research.google.com/assets/colab-badge.svg\" alt=\"Open In Colab\"/></a>"
      ]
    },
    {
      "cell_type": "code",
      "execution_count": 10,
      "metadata": {
        "colab": {
          "base_uri": "https://localhost:8080/"
        },
        "id": "ajglVAjxc2VD",
        "outputId": "2e249c08-e68b-4da5-d2e6-ae254c39cf7b"
      },
      "outputs": [
        {
          "output_type": "stream",
          "name": "stdout",
          "text": [
            "Index(['A', 'B', 'C', 'D', 'E', 'F', 'G', 'H', 'I', 'J', 'EOP'], dtype='object', name='tasks')\n",
            "tasks         A         B         C         D         E         F         G  \\\n",
            "0      8.339793  4.118862  2.881869  2.580726  7.582358  1.307999  5.623943   \n",
            "1      6.639455  4.981693  2.818305  2.252485  5.996132  2.876584  6.369884   \n",
            "\n",
            "tasks         H          I         J  EOP  \n",
            "0      1.476444  10.749015  2.035375  NaN  \n",
            "1      3.656522  15.785972  1.344761  NaN  \n"
          ]
        }
      ],
      "source": [
        "import pandas as pd\n",
        "import tensorflow_probability as tfp\n",
        "tfd= tfp.distributions\n",
        "\n",
        "tasksDF=pd.read_csv('/content/drive/MyDrive/PERT-CPM.csv')\n",
        "taskNames=tasksDF['tasks']\n",
        "\n",
        "simulationDF=pd.DataFrame(columns=taskNames)\n",
        "\n",
        "print(simulationDF.columns)\n",
        "for index,task in tasksDF.iterrows():\n",
        "  dist=tfd.PERT(low=task['best'], peak=task['mostL'], high=task['worst'], temperature=4)\n",
        "  simulationDF[task['tasks']]=dist.sample(1000)\n",
        "\n",
        "print(simulationDF.head(2))\n",
        "\n",
        "\n"
      ]
    },
    {
      "cell_type": "code",
      "source": [
        "\n",
        "paths=['ABEJ','BCDEJ','BCFGJ','BCFHJ','BI']\n",
        "\n",
        "pathsDF=pd.DataFrame(columns=paths)\n",
        "ADEJ=[]\n",
        "BCDEJ=[]\n",
        "BCFGJ=[]\n",
        "BCFHJ=[]\n",
        "BI=[]\n",
        "\n",
        "for index,row in simulationDF.iterrows():\n",
        "  ADEJ.append(row['A']+row['D']+row['E']+row['J'])\n",
        "  BCDEJ.append(row['B']+row['C']+row['D']+row['E']+row['J'])\n",
        "  BCFGJ.append(row['B']+row['C']+row['F']+row['G']+row['J'])\n",
        "  BCFHJ.append(row['B']+row['C']+row['F']+row['H']+row['J'])\n",
        "  BI.append(row['B']+row['I'])\n",
        "\n",
        "pathsDF['ABEJ']=ADEJ\n",
        "pathsDF['BCDEJ']=BCDEJ\n",
        "pathsDF['BCFGJ']=BCFGJ\n",
        "pathsDF['BCFHJ']=BCFHJ\n",
        "pathsDF['BI']=BI\n",
        "print(pathsDF.head(2))\n",
        "\n"
      ],
      "metadata": {
        "colab": {
          "base_uri": "https://localhost:8080/"
        },
        "id": "hhPwk6WddOHX",
        "outputId": "4df32a43-2892-42a4-d9ce-2562668c55e7"
      },
      "execution_count": 13,
      "outputs": [
        {
          "output_type": "stream",
          "name": "stdout",
          "text": [
            "        ABEJ      BCDEJ      BCFGJ      BCFHJ         BI\n",
            "0  20.538254  19.199192  15.968050  11.820551  14.867877\n",
            "1  16.232834  17.393375  18.391228  15.677865  20.767666\n"
          ]
        }
      ]
    }
  ]
}